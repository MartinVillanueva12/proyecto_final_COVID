{
  "nbformat": 4,
  "nbformat_minor": 0,
  "metadata": {
    "colab": {
      "private_outputs": true,
      "provenance": [],
      "gpuType": "T4",
      "include_colab_link": true
    },
    "kernelspec": {
      "name": "python3",
      "display_name": "Python 3"
    },
    "language_info": {
      "name": "python"
    },
    "accelerator": "GPU"
  },
  "cells": [
    {
      "cell_type": "markdown",
      "metadata": {
        "id": "view-in-github",
        "colab_type": "text"
      },
      "source": [
        "<a href=\"https://colab.research.google.com/github/MartinVillanueva12/proyecto_final_COVID/blob/main/Copia_de_PTfinal_.ipynb\" target=\"_parent\"><img src=\"https://colab.research.google.com/assets/colab-badge.svg\" alt=\"Open In Colab\"/></a>"
      ]
    },
    {
      "cell_type": "code",
      "source": [
        "# This get the RAPIDS-Colab install files and test check your GPU.  Run this and the next cell only.\n",
        "# Please read the output of this cell.  If your Colab Instance is not RAPIDS compatible, it will warn you and give you remediation steps.\n",
        "!git clone https://github.com/rapidsai/rapidsai-csp-utils.git\n",
        "!python rapidsai-csp-utils/colab/pip-install.py"
      ],
      "metadata": {
        "id": "CblG7T-IEBZK"
      },
      "execution_count": null,
      "outputs": []
    },
    {
      "cell_type": "code",
      "source": [
        "import locale\n",
        "def getpreferredencoding(do_setlocale = True):\n",
        "    return \"UTF-8\"\n",
        "locale.getpreferredencoding = getpreferredencoding"
      ],
      "metadata": {
        "id": "pUeYZr-fMWsm"
      },
      "execution_count": null,
      "outputs": []
    },
    {
      "cell_type": "code",
      "source": [
        "!pip install gradio"
      ],
      "metadata": {
        "id": "SyBKcHPvKq6i"
      },
      "execution_count": null,
      "outputs": []
    },
    {
      "cell_type": "code",
      "execution_count": null,
      "metadata": {
        "id": "RGAdx7WW1tJF"
      },
      "outputs": [],
      "source": [
        "!wget https://datosabiertos.salud.gob.mx/gobmx/salud/datos_abiertos/datos_abiertos_covid19.zip"
      ]
    },
    {
      "cell_type": "code",
      "source": [
        "!unzip /content/datos_abiertos_covid19.zip"
      ],
      "metadata": {
        "id": "lUEh9Jxx2uYw"
      },
      "execution_count": null,
      "outputs": []
    },
    {
      "cell_type": "code",
      "source": [
        "import numpy as np\n",
        "import pandas as pd\n",
        "\n",
        "\n",
        "data=pd.read_csv('COVID19MEXICO.csv',low_memory=False)\n",
        "data.info()"
      ],
      "metadata": {
        "id": "YWTqIVR_3C5j"
      },
      "execution_count": null,
      "outputs": []
    },
    {
      "cell_type": "code",
      "source": [
        "df=data\n",
        "\n",
        "df = df.drop(columns=['SECTOR','MUNICIPIO_RES','HABLA_LENGUA_INDIG','ID_REGISTRO','ORIGEN','PAIS_NACIONALIDAD','PAIS_ORIGEN','INDIGENA','ENTIDAD_UM','ENTIDAD_NAC','NACIONALIDAD','ENTIDAD_RES'])\n",
        "df.columns\n",
        "\n",
        "\n",
        "df['FECHA_ACTUALIZACION']=pd.to_datetime(df['FECHA_ACTUALIZACION'])\n",
        "df['FECHA_INGRESO']=pd.to_datetime(df['FECHA_INGRESO'])\n",
        "df['FECHA_SINTOMAS']=pd.to_datetime(df['FECHA_SINTOMAS'])\n",
        "df['FECHA_DEF']=pd.to_datetime(df['FECHA_DEF'],errors='coerce')\n",
        "\n",
        "\n",
        "for col in ['TIPO_PACIENTE']:\n",
        "  df[col]=df[col].astype(str)\n",
        "\n",
        "\n",
        "from sklearn.preprocessing import LabelEncoder\n",
        "\n",
        "le= LabelEncoder()\n",
        "\n",
        "\n",
        "for col in ['TIPO_PACIENTE','SEXO']:\n",
        "  df[col]=le.fit_transform(df[col])\n",
        "# crear caracteristicas apartir de las fechas\n",
        "\n",
        "df['DIAS_DEFUNCION']=(df['FECHA_ACTUALIZACION']- df['FECHA_DEF']).dt.days\n",
        "df['DIAS_HOSPITALIZACION']=(df['FECHA_ACTUALIZACION']- df['FECHA_INGRESO']).dt.days\n",
        "df['DIAS_SINTOMAS']=(df['FECHA_ACTUALIZACION']- df['FECHA_SINTOMAS']).dt.days\n",
        "\n",
        "\n",
        "# Red NUERONAL REVISAR ESTO\n",
        "df['DIAS_DEFUNCION'] = df['DIAS_DEFUNCION'].apply(lambda x: 0 if x < 0 else x)\n",
        "\n",
        "\n",
        "\n",
        "df = df.drop(columns=['FECHA_ACTUALIZACION', 'FECHA_INGRESO', 'FECHA_SINTOMAS', 'FECHA_DEF','DIAS_DEFUNCION','MIGRANTE'])\n",
        "df\n"
      ],
      "metadata": {
        "id": "aytu-jda4kPZ"
      },
      "execution_count": null,
      "outputs": []
    },
    {
      "cell_type": "code",
      "source": [
        "clases_para_eliminar = [2, 4, 5]\n",
        "df_filtrado = df[~df['CLASIFICACION_FINAL'].isin(clases_para_eliminar)]"
      ],
      "metadata": {
        "id": "KEMnsfFWjraF"
      },
      "execution_count": null,
      "outputs": []
    },
    {
      "cell_type": "code",
      "source": [
        "df_filtrado['CLASIFICACION_FINAL'].unique()"
      ],
      "metadata": {
        "id": "3a0rVjNmXldR"
      },
      "execution_count": null,
      "outputs": []
    },
    {
      "cell_type": "code",
      "source": [
        "mapeo_clases = {1: 1, 3: 2, 6: 3, 7: 4}\n",
        "df_filtrado['CLASIFICACION_FINAL'] = df_filtrado['CLASIFICACION_FINAL'].map(mapeo_clases)\n"
      ],
      "metadata": {
        "id": "P33Y9c9TjzAD"
      },
      "execution_count": null,
      "outputs": []
    },
    {
      "cell_type": "code",
      "source": [
        "df_filtrado['CLASIFICACION_FINAL'].unique()"
      ],
      "metadata": {
        "id": "GGgRr132j0Fr"
      },
      "execution_count": null,
      "outputs": []
    },
    {
      "cell_type": "code",
      "source": [
        "X=df_filtrado.drop(columns=['CLASIFICACION_FINAL'])\n",
        "y=df_filtrado['CLASIFICACION_FINAL']"
      ],
      "metadata": {
        "id": "Gdg32KkoXXyW"
      },
      "execution_count": null,
      "outputs": []
    },
    {
      "cell_type": "code",
      "source": [
        "from sklearn.model_selection import train_test_split\n",
        "from imblearn.combine import SMOTEENN\n",
        "\n",
        "X_train, X_test, y_train, y_test = train_test_split(X, y, test_size=0.2, random_state=42)\n",
        "\n"
      ],
      "metadata": {
        "id": "8e8A20ps6q4l"
      },
      "execution_count": null,
      "outputs": []
    },
    {
      "cell_type": "code",
      "source": [
        "# smote_enn = SMOTEENN(random_state=42)\n",
        "# X_train, y_train = smote_enn.fit_resample(X_train, y_train)"
      ],
      "metadata": {
        "id": "qF17KTZ6mO0F"
      },
      "execution_count": null,
      "outputs": []
    },
    {
      "cell_type": "code",
      "source": [
        "from sklearn.ensemble import RandomForestClassifier\n",
        "from sklearn.metrics import classification_report\n",
        "clf=RandomForestClassifier(random_state=42)\n",
        "clf.fit(X_train,y_train)\n",
        "y_pred=clf.predict(X_test)\n",
        "\n",
        "print(classification_report(y_test,y_pred))\n"
      ],
      "metadata": {
        "id": "ZOv6vapw_ghp"
      },
      "execution_count": null,
      "outputs": []
    },
    {
      "cell_type": "code",
      "source": [
        "import warnings\n",
        "import cuml\n",
        "from cuml.ensemble import RandomForestClassifier\n",
        "from sklearn.metrics import classification_report\n",
        "\n",
        "with warnings.catch_warnings():\n",
        "    warnings.filterwarnings(\"ignore\")\n",
        "    clf = RandomForestClassifier(random_state=42)\n",
        "    #\n",
        "    X_train = X_train.astype('float32')\n",
        "    y_train = y_train.astype('float32')\n",
        "\n",
        "    clf.fit(X_train, y_train)\n",
        "    y_pred = clf.predict(X_test)\n",
        "\n",
        "    print(classification_report(y_test, y_pred))\n",
        "\n"
      ],
      "metadata": {
        "id": "WegSuOMNHRoP"
      },
      "execution_count": null,
      "outputs": []
    },
    {
      "cell_type": "code",
      "source": [
        "import cuml\n",
        "from cuml.ensemble import RandomForestClassifier\n",
        "from cuml.neighbors import KNeighborsClassifier\n",
        "\n",
        "with warnings.catch_warnings():\n",
        "    warnings.filterwarnings(\"ignore\")\n",
        "    cuml_RFC=RandomForestClassifier(random_state=42)\n",
        "    cuml_KNC=KNeighborsClassifier()\n",
        "\n",
        "    classifiers={\n",
        "            'Ramdom Forest':cuml_RFC,\n",
        "            'KNN':cuml_KNC\n",
        "        }\n",
        "\n",
        "    for name,clf in classifiers.items():\n",
        "      clf.fit(X_train,y_train)\n",
        "      y_pred=clf.predict(X_test)\n",
        "      print(f'Modelo resultados {name}')\n",
        "      print(classification_report(y_test,y_pred))\n",
        "\n",
        "\n"
      ],
      "metadata": {
        "id": "P5LvOlTGJ179"
      },
      "execution_count": null,
      "outputs": []
    },
    {
      "cell_type": "code",
      "source": [
        "import gradio as gr\n",
        "import pandas as pd\n",
        "import numpy as np\n",
        "\n",
        "class_descriptions = {\n",
        "    1: \"CASO DE COVID-19 CONFIRMADO POR ASOCIACIÓN CLÍNICA EPIDEMIOLÓGICA\",\n",
        "    2: \"CASO DE SARS-COV-2 CONFIRMADO\",\n",
        "    3: \"CASO SOSPECHOSO\",\n",
        "    4: \"NEGATIVO A SARS-COV-2\",\n",
        "}\n",
        "\n",
        "def predict(sexo, tipo_paciente, intubado, neumonia, edad, embarazo,\n",
        "             diabetes, epoc, asma, inmusupr,\n",
        "            hipertension, otra_com, cardiovascular, obesidad,\n",
        "            renal_cronica, tabaquismo, otro_caso, toma_muestra_lab,\n",
        "            resultado_lab, toma_muestra_antigeno, resultado_antigeno,\n",
        "           uci, dias_hospitalizacion, dias_sintomas):\n",
        "\n",
        "\n",
        "    # Crea un DataFrame con los valores de entrada\n",
        "    input_data = pd.DataFrame([[\n",
        "        sexo, tipo_paciente, intubado, neumonia, edad, embarazo,\n",
        "       diabetes, epoc, asma, inmusupr,\n",
        "        hipertension, otra_com, cardiovascular, obesidad,\n",
        "        renal_cronica, tabaquismo, otro_caso, toma_muestra_lab,\n",
        "        resultado_lab, toma_muestra_antigeno, resultado_antigeno, uci, dias_hospitalizacion, dias_sintomas\n",
        "        ]], columns=[\n",
        "        'SEXO', 'TIPO_PACIENTE', 'INTUBADO', 'NEUMONIA', 'EDAD', 'EMBARAZO','DIABETES', 'EPOC',\n",
        "        'ASMA', 'INMUSUPR','HIPERTENSION', 'OTRA_COM', 'CARDIOVASCULAR', 'OBESIDAD','RENAL_CRONICA',\n",
        "        'TABAQUISMO', 'OTRO_CASO', 'TOMA_MUESTRA_LAB','RESULTADO_LAB', 'TOMA_MUESTRA_ANTIGENO',\n",
        "        'RESULTADO_ANTIGENO','UCI', 'DIAS_HOSPITALIZACION', 'DIAS_SINTOMAS'])\n",
        "\n",
        "    input_data = input_data.astype(float)\n",
        "    prediction = clf.predict(input_data)\n",
        "    class_description = class_descriptions.get(prediction[0], \"Clase desconocida\")\n",
        "    return class_description\n",
        "\n",
        "\n",
        "\n",
        "\n",
        "gr.Row\n",
        "\n",
        "inputs = [\n",
        "    gr.Radio(choices=[('Mujer', 0), ('Hombre', 1)], label='Sexo'),\n",
        "    gr.Radio(choices=[('Ambulatorio', 0), ('Hospitalizado', 1)], label='Tipo de Paciente'),\n",
        "    gr.Radio(choices=[('No', 0), ('Sí', 1), ('No aplica', 97), ('Se ignora', 98), ('No especificado', 99)], label='Intubado'),\n",
        "    gr.Radio(choices=[('No', 0), ('Sí', 1), ('No aplica', 97), ('Se ignora', 98), ('No especificado', 99)], label='Neumonía'),\n",
        "    gr.Slider(minimum=0, maximum=120, value=30, label='Edad'),\n",
        "    gr.Radio(choices=[('No aplica', 1), ('Sí', 2), ('Se ignora', 97), ('No especificado', 98), ('No se sabe', 99)], label='Embarazo'),\n",
        "    gr.Radio(choices=[('No', 1), ('Sí', 2), ('Se ignora', 98)], label='Diabetes'),\n",
        "    gr.Radio(choices=[('No', 1), ('Sí', 2), ('Se ignora', 98)], label='Enfermedad Pulmonar Obstructiva Crónica(EPOC)'),\n",
        "    gr.Radio(choices=[('No', 1), ('Sí', 2), ('Se ignora', 98)], label='Asma'),\n",
        "    gr.Radio(choices=[('No', 1), ('Sí', 2), ('Se ignora', 98)], label='Inmunosupresión'),\n",
        "    gr.Radio(choices=[('No', 1), ('Sí', 2), ('Se ignora', 98)], label='Hipertensión'),\n",
        "    gr.Radio(choices=[('No', 1), ('Sí', 2), ('Se ignora', 98)], label='Otra Comorbilidad'),\n",
        "    gr.Radio(choices=[('No', 1), ('Sí', 2), ('Se ignora', 98)], label='Cardiovascular'),\n",
        "    gr.Radio(choices=[('No', 1), ('Sí', 2), ('Se ignora', 98)], label='Obesidad'),\n",
        "    gr.Radio(choices=[('No', 1), ('Sí', 2), ('Se ignora', 98)], label='Enfermedad Renal Crónica'),\n",
        "    gr.Radio(choices=[('No', 1), ('Sí', 2), ('Se ignora', 98)], label='Tabaquismo'),\n",
        "    gr.Radio(choices=[('No', 1), ('Sí', 2), ('Se ignora', 99)], label='Contacto con otro caso'),\n",
        "    gr.Radio(choices=[('No', 1), ('Sí', 2), ('Se ignora', 98)], label='Toma de muestra de laboratorio'),\n",
        "    gr.Radio(choices=[('Positivo', 1), ('Negativo', 2), ('Pendiente', 97), ('Se ignora', 98), ('No especificado', 99)], label='Resultado de laboratorio'),\n",
        "    gr.Radio(choices=[('No', 1), ('Sí', 2), ('Se ignora', 98)], label='Toma de muestra de antígeno'),\n",
        "    gr.Radio(choices=[('Positivo', 1), ('Negativo', 2), ('Pendiente', 97), ('Se ignora', 98), ('No especificado', 99)], label='Resultado de antígeno'),\n",
        "    gr.Radio(choices=[('No', 1), ('Sí', 2), ('No aplica', 97), ('Se ignora', 98),\n",
        "     ('No especificado', 99)], label='Identifica si el paciente requirió ingresar a una Unidad de Cuidados Intensivos(UCI)'),\n",
        "    gr.Number(label='Días de Hospitalización', value=0),\n",
        "    gr.Number(label='Días con Síntomas', value=0),\n",
        "]\n",
        "\n",
        "\n",
        "\n",
        "# Crear componente de salida para Gradio\n",
        "outputs = gr.Textbox(label=\"Predicción\")\n",
        "\n",
        "# Crear la interfaz de Gradio\n",
        "demo = gr.Interface(fn=predict, inputs=inputs, outputs=outputs)\n",
        "\n",
        "# Ejecutar la aplicación web\n",
        "if __name__ == \"__main__\":\n",
        "    demo.launch(show_api=False,debug=True)"
      ],
      "metadata": {
        "id": "X6w1zIbUNCkq"
      },
      "execution_count": null,
      "outputs": []
    }
  ]
}